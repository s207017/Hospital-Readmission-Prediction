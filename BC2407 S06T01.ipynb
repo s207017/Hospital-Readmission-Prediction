{
  "cells": [
    {
      "cell_type": "markdown",
      "metadata": {
        "id": "CPWqu-F_KqwX"
      },
      "source": [
        "Code for BC2407 Project, Neural Network"
      ]
    },
    {
      "cell_type": "code",
      "execution_count": null,
      "metadata": {
        "colab": {
          "base_uri": "https://localhost:8080/"
        },
        "id": "PUH8FLu6CmD9",
        "outputId": "c27ff893-4970-41b2-e8d6-2a81388a332c"
      },
      "outputs": [
        {
          "name": "stdout",
          "output_type": "stream",
          "text": [
            "Num GPUs Available:  1\n"
          ]
        }
      ],
      "source": [
        "import tensorflow as tf\n",
        "print(\"Num GPUs Available: \", len(tf.config.list_physical_devices('GPU')))\n"
      ]
    },
    {
      "cell_type": "markdown",
      "metadata": {
        "id": "4ptf3auzKxvP"
      },
      "source": [
        "\n",
        "Datasource: \n",
        "https://www.kaggle.com/brandao/diabetes\n",
        "\n",
        "minor edit to readmitted to combined both <30 and >30 days into 1 single value"
      ]
    },
    {
      "cell_type": "code",
      "execution_count": null,
      "metadata": {
        "colab": {
          "base_uri": "https://localhost:8080/"
        },
        "id": "62a9eyBQ0_Vm",
        "outputId": "b2e737a6-b5c4-4fd2-d7d0-256735130160"
      },
      "outputs": [
        {
          "name": "stdout",
          "output_type": "stream",
          "text": [
            "Collecting clevercsv\n",
            "  Downloading clevercsv-0.7.1-cp37-cp37m-manylinux2010_x86_64.whl (93 kB)\n",
            "\u001b[?25l\r\u001b[K     |███▌                            | 10 kB 30.1 MB/s eta 0:00:01\r\u001b[K     |███████                         | 20 kB 17.6 MB/s eta 0:00:01\r\u001b[K     |██████████▌                     | 30 kB 14.6 MB/s eta 0:00:01\r\u001b[K     |██████████████                  | 40 kB 13.2 MB/s eta 0:00:01\r\u001b[K     |█████████████████▌              | 51 kB 6.0 MB/s eta 0:00:01\r\u001b[K     |█████████████████████           | 61 kB 7.1 MB/s eta 0:00:01\r\u001b[K     |████████████████████████▌       | 71 kB 7.8 MB/s eta 0:00:01\r\u001b[K     |████████████████████████████    | 81 kB 7.8 MB/s eta 0:00:01\r\u001b[K     |███████████████████████████████▌| 92 kB 8.7 MB/s eta 0:00:01\r\u001b[K     |████████████████████████████████| 93 kB 2.1 MB/s \n",
            "\u001b[?25hRequirement already satisfied: chardet>=3.0 in /usr/local/lib/python3.7/dist-packages (from clevercsv) (3.0.4)\n",
            "Requirement already satisfied: regex>=2018.11 in /usr/local/lib/python3.7/dist-packages (from clevercsv) (2019.12.20)\n",
            "Installing collected packages: clevercsv\n",
            "Successfully installed clevercsv-0.7.1\n"
          ]
        }
      ],
      "source": [
        "!pip install clevercsv \n",
        "#CleverCSV provides a drop-in replacement for the Python csv package with improved dialect detection for messy CSV files."
      ]
    },
    {
      "cell_type": "code",
      "execution_count": null,
      "metadata": {
        "colab": {
          "base_uri": "https://localhost:8080/"
        },
        "id": "UBqHyX2qHUja",
        "outputId": "e70db885-89b9-461a-9950-4cf084c91cae"
      },
      "outputs": [
        {
          "name": "stdout",
          "output_type": "stream",
          "text": [
            "Requirement already satisfied: pyyaml in /usr/local/lib/python3.7/dist-packages (3.13)\n",
            "Requirement already satisfied: h5py in /usr/local/lib/python3.7/dist-packages (3.1.0)\n",
            "Requirement already satisfied: numpy>=1.14.5 in /usr/local/lib/python3.7/dist-packages (from h5py) (1.21.5)\n",
            "Requirement already satisfied: cached-property in /usr/local/lib/python3.7/dist-packages (from h5py) (1.5.2)\n"
          ]
        }
      ],
      "source": [
        "!pip install pyyaml h5py"
      ]
    },
    {
      "cell_type": "code",
      "execution_count": null,
      "metadata": {
        "id": "4FySz_JWMyXZ"
      },
      "outputs": [],
      "source": [
        "import pandas as pd\n",
        "import tensorflow as tf\n",
        "import numpy as np\n",
        "from tensorflow import keras\n",
        "import clevercsv as csv\n",
        "import matplotlib.pyplot as plt\n",
        "import seaborn as sns\n"
      ]
    },
    {
      "cell_type": "code",
      "execution_count": null,
      "metadata": {
        "id": "-VUUsJya0pAe"
      },
      "outputs": [],
      "source": [
        "#bug hunting/fixing here\n",
        "with open(\"diabetic_data.csv\", \"r\", encoding=\"utf-8\") as input, open(\"new_dataset.csv\", \"w\", encoding=\"utf-8\") as output:\n",
        "  w = csv.writer(output)\n",
        "  for record in csv.reader(input):\n",
        "    w.writerow(tuple(s.replace(\"\\n\", '') for s in record))"
      ]
    },
    {
      "cell_type": "code",
      "execution_count": null,
      "metadata": {
        "id": "drSBXz5H2lIv"
      },
      "outputs": [],
      "source": [
        "df = csv.read_dataframe(\"new_dataset.csv\", delimiter = ',', quotechar = '', escapechar = '\\\\', encoding = 'utf-8', low_memory = False)"
      ]
    },
    {
      "cell_type": "code",
      "execution_count": null,
      "metadata": {
        "id": "bTgATsWE4jqW"
      },
      "outputs": [],
      "source": [
        "#remove na if any\n",
        "#for col in df:\n",
        "#  df[col] = df[col].fillna(0)\n",
        "\n",
        "df.dropna()\n",
        "\n",
        "df = df.applymap(lambda s:s.lower() if type(s) == str else s)"
      ]
    },
    {
      "cell_type": "code",
      "execution_count": null,
      "metadata": {
        "id": "fzv1AxQT_r-I"
      },
      "outputs": [],
      "source": [
        "#split by what needs to be one-hot encoded\n",
        "\n",
        "categorical_columns = ['race', 'gender', 'age', 'weight', 'admission_source_id', 'payer_code', 'medical_specialty', 'diag_1', 'diag_2', 'diag_3', 'max_glu_serum', 'A1Cresult', 'metformin', 'repaglinide', 'nateglinide', 'chlorpropamide', 'glimepiride',\n",
        "                      'acetohexamide', 'glipizide', 'glyburide', 'tolbutamide', 'pioglitazone', 'rosiglitazone', 'acarbose', 'miglitol', 'troglitazone', 'tolazamide', 'examide', 'citoglipton',\n",
        "                      'insulin', 'glyburide-metformin', 'glipizide-metformin', 'glimepiride-pioglitazone', 'metformin-rosiglitazone', 'metformin-pioglitazone', 'change', 'diabetesMed']\n",
        "\n",
        "kept_columns = ['admission_type_id', 'discharge_disposition_id', 'time_in_hospital', 'num_lab_procedures', 'num_procedures', 'num_medications', 'number_outpatient', 'number_emergency', 'number_inpatient', 'number_diagnoses', 'readmitted']"
      ]
    },
    {
      "cell_type": "code",
      "execution_count": null,
      "metadata": {
        "id": "w3wRH3T75YOu"
      },
      "outputs": [],
      "source": [
        "df = df.astype(str)"
      ]
    },
    {
      "cell_type": "code",
      "execution_count": null,
      "metadata": {
        "id": "xvDI0Cnc5cHn"
      },
      "outputs": [],
      "source": [
        "df['admission_type_id'] = df['admission_type_id'].astype(float)\n",
        "df['discharge_disposition_id'] = df['discharge_disposition_id'].astype(float)\n",
        "df['time_in_hospital'] = df['time_in_hospital'].astype(float)\n",
        "df['num_lab_procedures'] = df['num_lab_procedures'].astype(float)\n",
        "df['num_procedures'] = df['num_procedures'].astype(float)\n",
        "df['num_medications'] = df['num_medications'].astype(float)\n",
        "df['number_outpatient'] = df['number_outpatient'].astype(float)\n",
        "df['number_emergency'] = df['number_emergency'].astype(float)\n",
        "df['number_inpatient'] = df['number_inpatient'].astype(float)\n",
        "df['number_diagnoses'] = df['number_diagnoses'].astype(float)\n",
        "df['readmitted'] = df['readmitted'].astype(float)"
      ]
    },
    {
      "cell_type": "code",
      "execution_count": null,
      "metadata": {
        "id": "szUrJWX5BU2C"
      },
      "outputs": [],
      "source": [
        "df = df[['admission_type_id', 'discharge_disposition_id', 'time_in_hospital', 'num_lab_procedures', 'num_procedures', 'num_medications', 'number_outpatient', 'number_emergency', 'number_inpatient', 'number_diagnoses', 'race', 'gender', 'age', 'weight', 'admission_source_id', 'payer_code', 'medical_specialty', 'diag_1', 'diag_2', 'diag_3', 'max_glu_serum', 'A1Cresult', 'metformin', 'repaglinide', 'nateglinide', 'chlorpropamide', 'glimepiride','acetohexamide', 'glipizide', 'glyburide', 'tolbutamide', 'pioglitazone', 'rosiglitazone', 'acarbose', 'miglitol', 'troglitazone', 'tolazamide', 'examide', 'citoglipton', 'insulin', 'glyburide-metformin', 'glipizide-metformin', 'glimepiride-pioglitazone', 'metformin-rosiglitazone', 'metformin-pioglitazone', 'change', 'diabetesMed', 'readmitted']]"
      ]
    },
    {
      "cell_type": "code",
      "execution_count": null,
      "metadata": {
        "colab": {
          "base_uri": "https://localhost:8080/",
          "height": 317
        },
        "id": "LQbzaz3eNXbA",
        "outputId": "ff4da534-8ae8-4b7a-ed1b-c42ebcbc6f7b"
      },
      "outputs": [
        {
          "data": {
            "text/html": [
              "\n",
              "  <div id=\"df-6994f223-7afb-4e76-8d0e-14175f45d846\">\n",
              "    <div class=\"colab-df-container\">\n",
              "      <div>\n",
              "<style scoped>\n",
              "    .dataframe tbody tr th:only-of-type {\n",
              "        vertical-align: middle;\n",
              "    }\n",
              "\n",
              "    .dataframe tbody tr th {\n",
              "        vertical-align: top;\n",
              "    }\n",
              "\n",
              "    .dataframe thead th {\n",
              "        text-align: right;\n",
              "    }\n",
              "</style>\n",
              "<table border=\"1\" class=\"dataframe\">\n",
              "  <thead>\n",
              "    <tr style=\"text-align: right;\">\n",
              "      <th></th>\n",
              "      <th>admission_type_id</th>\n",
              "      <th>discharge_disposition_id</th>\n",
              "      <th>time_in_hospital</th>\n",
              "      <th>num_lab_procedures</th>\n",
              "      <th>num_procedures</th>\n",
              "      <th>num_medications</th>\n",
              "      <th>number_outpatient</th>\n",
              "      <th>number_emergency</th>\n",
              "      <th>number_inpatient</th>\n",
              "      <th>number_diagnoses</th>\n",
              "      <th>...</th>\n",
              "      <th>citoglipton</th>\n",
              "      <th>insulin</th>\n",
              "      <th>glyburide-metformin</th>\n",
              "      <th>glipizide-metformin</th>\n",
              "      <th>glimepiride-pioglitazone</th>\n",
              "      <th>metformin-rosiglitazone</th>\n",
              "      <th>metformin-pioglitazone</th>\n",
              "      <th>change</th>\n",
              "      <th>diabetesMed</th>\n",
              "      <th>readmitted</th>\n",
              "    </tr>\n",
              "  </thead>\n",
              "  <tbody>\n",
              "    <tr>\n",
              "      <th>0</th>\n",
              "      <td>6.0</td>\n",
              "      <td>25.0</td>\n",
              "      <td>1.0</td>\n",
              "      <td>41.0</td>\n",
              "      <td>0.0</td>\n",
              "      <td>1.0</td>\n",
              "      <td>0.0</td>\n",
              "      <td>0.0</td>\n",
              "      <td>0.0</td>\n",
              "      <td>1.0</td>\n",
              "      <td>...</td>\n",
              "      <td>no</td>\n",
              "      <td>no</td>\n",
              "      <td>no</td>\n",
              "      <td>no</td>\n",
              "      <td>no</td>\n",
              "      <td>no</td>\n",
              "      <td>no</td>\n",
              "      <td>no</td>\n",
              "      <td>no</td>\n",
              "      <td>0.0</td>\n",
              "    </tr>\n",
              "    <tr>\n",
              "      <th>1</th>\n",
              "      <td>1.0</td>\n",
              "      <td>1.0</td>\n",
              "      <td>3.0</td>\n",
              "      <td>59.0</td>\n",
              "      <td>0.0</td>\n",
              "      <td>18.0</td>\n",
              "      <td>0.0</td>\n",
              "      <td>0.0</td>\n",
              "      <td>0.0</td>\n",
              "      <td>9.0</td>\n",
              "      <td>...</td>\n",
              "      <td>no</td>\n",
              "      <td>up</td>\n",
              "      <td>no</td>\n",
              "      <td>no</td>\n",
              "      <td>no</td>\n",
              "      <td>no</td>\n",
              "      <td>no</td>\n",
              "      <td>ch</td>\n",
              "      <td>yes</td>\n",
              "      <td>1.0</td>\n",
              "    </tr>\n",
              "    <tr>\n",
              "      <th>2</th>\n",
              "      <td>1.0</td>\n",
              "      <td>1.0</td>\n",
              "      <td>2.0</td>\n",
              "      <td>11.0</td>\n",
              "      <td>5.0</td>\n",
              "      <td>13.0</td>\n",
              "      <td>2.0</td>\n",
              "      <td>0.0</td>\n",
              "      <td>1.0</td>\n",
              "      <td>6.0</td>\n",
              "      <td>...</td>\n",
              "      <td>no</td>\n",
              "      <td>no</td>\n",
              "      <td>no</td>\n",
              "      <td>no</td>\n",
              "      <td>no</td>\n",
              "      <td>no</td>\n",
              "      <td>no</td>\n",
              "      <td>no</td>\n",
              "      <td>yes</td>\n",
              "      <td>0.0</td>\n",
              "    </tr>\n",
              "    <tr>\n",
              "      <th>3</th>\n",
              "      <td>1.0</td>\n",
              "      <td>1.0</td>\n",
              "      <td>2.0</td>\n",
              "      <td>44.0</td>\n",
              "      <td>1.0</td>\n",
              "      <td>16.0</td>\n",
              "      <td>0.0</td>\n",
              "      <td>0.0</td>\n",
              "      <td>0.0</td>\n",
              "      <td>7.0</td>\n",
              "      <td>...</td>\n",
              "      <td>no</td>\n",
              "      <td>up</td>\n",
              "      <td>no</td>\n",
              "      <td>no</td>\n",
              "      <td>no</td>\n",
              "      <td>no</td>\n",
              "      <td>no</td>\n",
              "      <td>ch</td>\n",
              "      <td>yes</td>\n",
              "      <td>0.0</td>\n",
              "    </tr>\n",
              "    <tr>\n",
              "      <th>4</th>\n",
              "      <td>1.0</td>\n",
              "      <td>1.0</td>\n",
              "      <td>1.0</td>\n",
              "      <td>51.0</td>\n",
              "      <td>0.0</td>\n",
              "      <td>8.0</td>\n",
              "      <td>0.0</td>\n",
              "      <td>0.0</td>\n",
              "      <td>0.0</td>\n",
              "      <td>5.0</td>\n",
              "      <td>...</td>\n",
              "      <td>no</td>\n",
              "      <td>steady</td>\n",
              "      <td>no</td>\n",
              "      <td>no</td>\n",
              "      <td>no</td>\n",
              "      <td>no</td>\n",
              "      <td>no</td>\n",
              "      <td>ch</td>\n",
              "      <td>yes</td>\n",
              "      <td>0.0</td>\n",
              "    </tr>\n",
              "  </tbody>\n",
              "</table>\n",
              "<p>5 rows × 48 columns</p>\n",
              "</div>\n",
              "      <button class=\"colab-df-convert\" onclick=\"convertToInteractive('df-6994f223-7afb-4e76-8d0e-14175f45d846')\"\n",
              "              title=\"Convert this dataframe to an interactive table.\"\n",
              "              style=\"display:none;\">\n",
              "        \n",
              "  <svg xmlns=\"http://www.w3.org/2000/svg\" height=\"24px\"viewBox=\"0 0 24 24\"\n",
              "       width=\"24px\">\n",
              "    <path d=\"M0 0h24v24H0V0z\" fill=\"none\"/>\n",
              "    <path d=\"M18.56 5.44l.94 2.06.94-2.06 2.06-.94-2.06-.94-.94-2.06-.94 2.06-2.06.94zm-11 1L8.5 8.5l.94-2.06 2.06-.94-2.06-.94L8.5 2.5l-.94 2.06-2.06.94zm10 10l.94 2.06.94-2.06 2.06-.94-2.06-.94-.94-2.06-.94 2.06-2.06.94z\"/><path d=\"M17.41 7.96l-1.37-1.37c-.4-.4-.92-.59-1.43-.59-.52 0-1.04.2-1.43.59L10.3 9.45l-7.72 7.72c-.78.78-.78 2.05 0 2.83L4 21.41c.39.39.9.59 1.41.59.51 0 1.02-.2 1.41-.59l7.78-7.78 2.81-2.81c.8-.78.8-2.07 0-2.86zM5.41 20L4 18.59l7.72-7.72 1.47 1.35L5.41 20z\"/>\n",
              "  </svg>\n",
              "      </button>\n",
              "      \n",
              "  <style>\n",
              "    .colab-df-container {\n",
              "      display:flex;\n",
              "      flex-wrap:wrap;\n",
              "      gap: 12px;\n",
              "    }\n",
              "\n",
              "    .colab-df-convert {\n",
              "      background-color: #E8F0FE;\n",
              "      border: none;\n",
              "      border-radius: 50%;\n",
              "      cursor: pointer;\n",
              "      display: none;\n",
              "      fill: #1967D2;\n",
              "      height: 32px;\n",
              "      padding: 0 0 0 0;\n",
              "      width: 32px;\n",
              "    }\n",
              "\n",
              "    .colab-df-convert:hover {\n",
              "      background-color: #E2EBFA;\n",
              "      box-shadow: 0px 1px 2px rgba(60, 64, 67, 0.3), 0px 1px 3px 1px rgba(60, 64, 67, 0.15);\n",
              "      fill: #174EA6;\n",
              "    }\n",
              "\n",
              "    [theme=dark] .colab-df-convert {\n",
              "      background-color: #3B4455;\n",
              "      fill: #D2E3FC;\n",
              "    }\n",
              "\n",
              "    [theme=dark] .colab-df-convert:hover {\n",
              "      background-color: #434B5C;\n",
              "      box-shadow: 0px 1px 3px 1px rgba(0, 0, 0, 0.15);\n",
              "      filter: drop-shadow(0px 1px 2px rgba(0, 0, 0, 0.3));\n",
              "      fill: #FFFFFF;\n",
              "    }\n",
              "  </style>\n",
              "\n",
              "      <script>\n",
              "        const buttonEl =\n",
              "          document.querySelector('#df-6994f223-7afb-4e76-8d0e-14175f45d846 button.colab-df-convert');\n",
              "        buttonEl.style.display =\n",
              "          google.colab.kernel.accessAllowed ? 'block' : 'none';\n",
              "\n",
              "        async function convertToInteractive(key) {\n",
              "          const element = document.querySelector('#df-6994f223-7afb-4e76-8d0e-14175f45d846');\n",
              "          const dataTable =\n",
              "            await google.colab.kernel.invokeFunction('convertToInteractive',\n",
              "                                                     [key], {});\n",
              "          if (!dataTable) return;\n",
              "\n",
              "          const docLinkHtml = 'Like what you see? Visit the ' +\n",
              "            '<a target=\"_blank\" href=https://colab.research.google.com/notebooks/data_table.ipynb>data table notebook</a>'\n",
              "            + ' to learn more about interactive tables.';\n",
              "          element.innerHTML = '';\n",
              "          dataTable['output_type'] = 'display_data';\n",
              "          await google.colab.output.renderOutput(dataTable, element);\n",
              "          const docLink = document.createElement('div');\n",
              "          docLink.innerHTML = docLinkHtml;\n",
              "          element.appendChild(docLink);\n",
              "        }\n",
              "      </script>\n",
              "    </div>\n",
              "  </div>\n",
              "  "
            ],
            "text/plain": [
              "   admission_type_id  discharge_disposition_id  time_in_hospital  \\\n",
              "0                6.0                      25.0               1.0   \n",
              "1                1.0                       1.0               3.0   \n",
              "2                1.0                       1.0               2.0   \n",
              "3                1.0                       1.0               2.0   \n",
              "4                1.0                       1.0               1.0   \n",
              "\n",
              "   num_lab_procedures  num_procedures  num_medications  number_outpatient  \\\n",
              "0                41.0             0.0              1.0                0.0   \n",
              "1                59.0             0.0             18.0                0.0   \n",
              "2                11.0             5.0             13.0                2.0   \n",
              "3                44.0             1.0             16.0                0.0   \n",
              "4                51.0             0.0              8.0                0.0   \n",
              "\n",
              "   number_emergency  number_inpatient  number_diagnoses  ... citoglipton  \\\n",
              "0               0.0               0.0               1.0  ...          no   \n",
              "1               0.0               0.0               9.0  ...          no   \n",
              "2               0.0               1.0               6.0  ...          no   \n",
              "3               0.0               0.0               7.0  ...          no   \n",
              "4               0.0               0.0               5.0  ...          no   \n",
              "\n",
              "  insulin glyburide-metformin glipizide-metformin glimepiride-pioglitazone  \\\n",
              "0      no                  no                  no                       no   \n",
              "1      up                  no                  no                       no   \n",
              "2      no                  no                  no                       no   \n",
              "3      up                  no                  no                       no   \n",
              "4  steady                  no                  no                       no   \n",
              "\n",
              "  metformin-rosiglitazone metformin-pioglitazone change diabetesMed readmitted  \n",
              "0                      no                     no     no          no        0.0  \n",
              "1                      no                     no     ch         yes        1.0  \n",
              "2                      no                     no     no         yes        0.0  \n",
              "3                      no                     no     ch         yes        0.0  \n",
              "4                      no                     no     ch         yes        0.0  \n",
              "\n",
              "[5 rows x 48 columns]"
            ]
          },
          "execution_count": 12,
          "metadata": {},
          "output_type": "execute_result"
        }
      ],
      "source": [
        "df.head()"
      ]
    },
    {
      "cell_type": "code",
      "execution_count": null,
      "metadata": {
        "colab": {
          "base_uri": "https://localhost:8080/"
        },
        "id": "m9Tt77VSSlTC",
        "outputId": "da98296d-6ee0-4676-e90d-e2aec8ce4b22"
      },
      "outputs": [
        {
          "name": "stdout",
          "output_type": "stream",
          "text": [
            "<class 'pandas.core.frame.DataFrame'>\n",
            "RangeIndex: 89622 entries, 0 to 89621\n",
            "Data columns (total 48 columns):\n",
            " #   Column                    Non-Null Count  Dtype  \n",
            "---  ------                    --------------  -----  \n",
            " 0   admission_type_id         89622 non-null  float64\n",
            " 1   discharge_disposition_id  89622 non-null  float64\n",
            " 2   time_in_hospital          89622 non-null  float64\n",
            " 3   num_lab_procedures        89622 non-null  float64\n",
            " 4   num_procedures            89622 non-null  float64\n",
            " 5   num_medications           89622 non-null  float64\n",
            " 6   number_outpatient         89622 non-null  float64\n",
            " 7   number_emergency          89622 non-null  float64\n",
            " 8   number_inpatient          89622 non-null  float64\n",
            " 9   number_diagnoses          89622 non-null  float64\n",
            " 10  race                      89622 non-null  object \n",
            " 11  gender                    89622 non-null  object \n",
            " 12  age                       89622 non-null  object \n",
            " 13  weight                    89622 non-null  object \n",
            " 14  admission_source_id       89622 non-null  object \n",
            " 15  payer_code                89622 non-null  object \n",
            " 16  medical_specialty         89622 non-null  object \n",
            " 17  diag_1                    89622 non-null  object \n",
            " 18  diag_2                    89622 non-null  object \n",
            " 19  diag_3                    89622 non-null  object \n",
            " 20  max_glu_serum             89622 non-null  object \n",
            " 21  A1Cresult                 89622 non-null  object \n",
            " 22  metformin                 89622 non-null  object \n",
            " 23  repaglinide               89622 non-null  object \n",
            " 24  nateglinide               89622 non-null  object \n",
            " 25  chlorpropamide            89622 non-null  object \n",
            " 26  glimepiride               89622 non-null  object \n",
            " 27  acetohexamide             89622 non-null  object \n",
            " 28  glipizide                 89622 non-null  object \n",
            " 29  glyburide                 89622 non-null  object \n",
            " 30  tolbutamide               89622 non-null  object \n",
            " 31  pioglitazone              89622 non-null  object \n",
            " 32  rosiglitazone             89622 non-null  object \n",
            " 33  acarbose                  89622 non-null  object \n",
            " 34  miglitol                  89622 non-null  object \n",
            " 35  troglitazone              89622 non-null  object \n",
            " 36  tolazamide                89622 non-null  object \n",
            " 37  examide                   89622 non-null  object \n",
            " 38  citoglipton               89622 non-null  object \n",
            " 39  insulin                   89622 non-null  object \n",
            " 40  glyburide-metformin       89622 non-null  object \n",
            " 41  glipizide-metformin       89622 non-null  object \n",
            " 42  glimepiride-pioglitazone  89622 non-null  object \n",
            " 43  metformin-rosiglitazone   89622 non-null  object \n",
            " 44  metformin-pioglitazone    89622 non-null  object \n",
            " 45  change                    89622 non-null  object \n",
            " 46  diabetesMed               89622 non-null  object \n",
            " 47  readmitted                89622 non-null  float64\n",
            "dtypes: float64(11), object(37)\n",
            "memory usage: 32.8+ MB\n"
          ]
        }
      ],
      "source": [
        "#check columns/datatype\n",
        "df.info()"
      ]
    },
    {
      "cell_type": "code",
      "execution_count": null,
      "metadata": {
        "id": "QYe8MT_DTYyj"
      },
      "outputs": [],
      "source": [
        "#one-hot encode strings using function below\n",
        "#columns to encode = race, gender, age, weight, payer_code, medical_specialty, admission_source_id, discharge_disposition_id, admission_type_id, diag_1, diag_2, diag_3, max_glu_serum,\n",
        "#A1Cresult, metformin... readmitted (basically everything), note diagnosis are coded, therefore required to be one-hot encoded\n",
        "\n",
        "def one_hot_cat_column(feature_name, vocab):\n",
        "  return tf.feature_column.indicator_column(\n",
        "      tf.feature_column.categorical_column_with_vocabulary_list(feature_name, vocab)\n",
        "  )\n"
      ]
    },
    {
      "cell_type": "code",
      "execution_count": null,
      "metadata": {
        "id": "PMO6xN_eeX4v"
      },
      "outputs": [],
      "source": [
        "#encode the data\n",
        "\n",
        "\n",
        "feature_columns = []\n",
        "for feature_name in categorical_columns:\n",
        "  #one-hot encode stuff\n",
        "  vocabulary = df[feature_name].unique()\n",
        "  feature_columns.append(one_hot_cat_column(feature_name, vocabulary))\n",
        "\n",
        "for feature_name in kept_columns:\n",
        "  feature_columns.append(tf.feature_column.numeric_column(feature_name, \n",
        "                                                          dtype=tf.float32))\n"
      ]
    },
    {
      "cell_type": "code",
      "execution_count": null,
      "metadata": {
        "colab": {
          "base_uri": "https://localhost:8080/"
        },
        "id": "A_zXgAzagu1H",
        "outputId": "e199180c-c9fa-40ea-8cc7-512d89371f8b"
      },
      "outputs": [
        {
          "name": "stdout",
          "output_type": "stream",
          "text": [
            "Feature values: \"female\"\n",
            "One-hot encoded:  [[1. 0. 0.]]\n"
          ]
        }
      ],
      "source": [
        "#example of encoding working properly\n",
        "\n",
        "\n",
        "from tensorflow.python.feature_column.feature_column_v2 import categorical_column_with_vocabulary_list\n",
        "example = dict(df.head(1))\n",
        "class_fc = tf.feature_column.indicator_column(tf.feature_column.categorical_column_with_vocabulary_list('gender', ('female', 'male', 'unknown/invalid')))\n",
        "print('Feature values: \"{}\"'.format(example['gender'].iloc[0]))\n",
        "print('One-hot encoded: ', tf.keras.layers.DenseFeatures([class_fc])(example).numpy())\n"
      ]
    },
    {
      "cell_type": "code",
      "execution_count": null,
      "metadata": {
        "id": "qzRToTnZR_PK"
      },
      "outputs": [],
      "source": [
        "#split the data\n",
        "\n",
        "#shuffle the data first to remove possible bias from the order in which the data was inputted\n",
        "df2 = df.sample(frac=1).reset_index(drop=True)\n",
        "\n",
        "target_ = df2['readmitted'].values\n",
        "#train_ = df2.drop(columns=['readmitted']).values\n",
        "train_ = df2[['admission_type_id', 'discharge_disposition_id', 'time_in_hospital', 'num_lab_procedures', 'num_procedures', 'num_medications', 'number_outpatient', 'number_emergency', 'number_inpatient', 'number_diagnoses', 'race', 'gender', 'age', 'weight', 'admission_source_id', 'payer_code', 'medical_specialty', 'diag_1', 'diag_2', 'diag_3', 'max_glu_serum', 'A1Cresult', 'metformin', 'repaglinide', 'nateglinide', 'chlorpropamide', 'glimepiride','acetohexamide', 'glipizide', 'glyburide', 'tolbutamide', 'pioglitazone', 'rosiglitazone', 'acarbose', 'miglitol', 'troglitazone', 'tolazamide', 'examide', 'citoglipton', 'insulin', 'glyburide-metformin', 'glipizide-metformin', 'glimepiride-pioglitazone', 'metformin-rosiglitazone', 'metformin-pioglitazone', 'change', 'diabetesMed']].values\n",
        "\n",
        "total_x = df2.shape[0]\n",
        "split_x = int(total_x * 0.7) #cast to int to drop the decimals if any\n",
        "\n",
        "#training data\n",
        "train_in = train_[-split_x:]\n",
        "train_target = target_[-split_x:]\n",
        "\n",
        "#verification data\n",
        "val_in = train_[:-split_x]\n",
        "val_target = target_[:-split_x]\n",
        "\n",
        "#for later visual stuff\n",
        "df_data = df2[:-split_x]\n",
        "labels = df_data.values"
      ]
    },
    {
      "cell_type": "code",
      "execution_count": null,
      "metadata": {
        "id": "wtQHh1VYn9EZ"
      },
      "outputs": [],
      "source": [
        "num_examples = len(train_in)\n",
        "\n",
        "#shuffle again\n",
        "def make_input_fn(X, y, n_epochs=None, shuffle=True):\n",
        "  def input_fn():\n",
        "    dataset = tf.data.Dataset.from_tensor_slices((dict(X), y))\n",
        "    if shuffle:\n",
        "      dataset = dataset.shuffle(num_examples)\n",
        "    dataset = dataset.repeat(n_epochs)\n",
        "    dataset = dataset.batch(num_examples)\n",
        "    return dataset\n",
        "  return input_fn\n",
        "\n",
        "train_input_fn = make_input_fn(df2[-split_x:], train_target)\n",
        "eval_input_fn = make_input_fn(df2[:-split_x], val_target, shuffle=False, n_epochs=1)"
      ]
    },
    {
      "cell_type": "code",
      "execution_count": null,
      "metadata": {
        "id": "BPuKCQzhpnuA"
      },
      "outputs": [],
      "source": [
        "#clear backend stuff\n",
        "tf.keras.backend.clear_session()"
      ]
    },
    {
      "cell_type": "code",
      "execution_count": null,
      "metadata": {
        "colab": {
          "base_uri": "https://localhost:8080/"
        },
        "id": "YlB0s8c0FuKT",
        "outputId": "ad8e71b2-5b82-4c11-94e8-865a752f1785"
      },
      "outputs": [
        {
          "name": "stdout",
          "output_type": "stream",
          "text": [
            "INFO:tensorflow:Using default config.\n",
            "INFO:tensorflow:Using config: {'_model_dir': './checkpoints/my_checkpoint', '_tf_random_seed': None, '_save_summary_steps': 100, '_save_checkpoints_steps': None, '_save_checkpoints_secs': 600, '_session_config': allow_soft_placement: true\n",
            "graph_options {\n",
            "  rewrite_options {\n",
            "    meta_optimizer_iterations: ONE\n",
            "  }\n",
            "}\n",
            ", '_keep_checkpoint_max': 5, '_keep_checkpoint_every_n_hours': 10000, '_log_step_count_steps': 100, '_train_distribute': None, '_device_fn': None, '_protocol': None, '_eval_distribute': None, '_experimental_distribute': None, '_experimental_max_worker_delay_secs': None, '_session_creation_timeout_secs': 7200, '_checkpoint_save_graph_def': True, '_service': None, '_cluster_spec': ClusterSpec({}), '_task_type': 'worker', '_task_id': 0, '_global_id_in_cluster': 0, '_master': '', '_evaluation_master': '', '_is_chief': True, '_num_ps_replicas': 0, '_num_worker_replicas': 1}\n",
            "WARNING:tensorflow:From /usr/local/lib/python3.7/dist-packages/tensorflow/python/training/training_util.py:397: Variable.initialized_value (from tensorflow.python.ops.variables) is deprecated and will be removed in a future version.\n",
            "Instructions for updating:\n",
            "Use Variable.read_value. Variables in 2.X are initialized automatically both in eager and graph (inside tf.defun) contexts.\n",
            "INFO:tensorflow:Calling model_fn.\n"
          ]
        },
        {
          "name": "stderr",
          "output_type": "stream",
          "text": [
            "/usr/local/lib/python3.7/dist-packages/tensorflow_estimator/python/estimator/canned/linear.py:1478: UserWarning: `layer.add_variable` is deprecated and will be removed in a future version. Please use `layer.add_weight` method instead.\n",
            "  getter=tf.compat.v1.get_variable)\n"
          ]
        },
        {
          "name": "stdout",
          "output_type": "stream",
          "text": [
            "WARNING:tensorflow:From /usr/local/lib/python3.7/dist-packages/keras/optimizer_v2/ftrl.py:149: calling Constant.__init__ (from tensorflow.python.ops.init_ops) with dtype is deprecated and will be removed in a future version.\n",
            "Instructions for updating:\n",
            "Call initializer instance with the dtype argument instead of passing it to the constructor\n",
            "INFO:tensorflow:Done calling model_fn.\n",
            "INFO:tensorflow:Create CheckpointSaverHook.\n",
            "INFO:tensorflow:Graph was finalized.\n",
            "INFO:tensorflow:Running local_init_op.\n",
            "INFO:tensorflow:Done running local_init_op.\n",
            "INFO:tensorflow:Calling checkpoint listeners before saving checkpoint 0...\n",
            "INFO:tensorflow:Saving checkpoints for 0 into ./checkpoints/my_checkpoint/model.ckpt.\n",
            "INFO:tensorflow:Calling checkpoint listeners after saving checkpoint 0...\n",
            "INFO:tensorflow:loss = 0.6931472, step = 0\n",
            "INFO:tensorflow:global_step/sec: 0.383461\n",
            "INFO:tensorflow:loss = 0.26083198, step = 100 (260.787 sec)\n",
            "INFO:tensorflow:global_step/sec: 0.382613\n",
            "INFO:tensorflow:loss = 0.17491382, step = 200 (261.361 sec)\n",
            "INFO:tensorflow:Calling checkpoint listeners before saving checkpoint 226...\n",
            "INFO:tensorflow:Saving checkpoints for 226 into ./checkpoints/my_checkpoint/model.ckpt.\n",
            "INFO:tensorflow:Calling checkpoint listeners after saving checkpoint 226...\n",
            "INFO:tensorflow:global_step/sec: 0.374208\n",
            "INFO:tensorflow:loss = 0.13184322, step = 300 (267.230 sec)\n",
            "INFO:tensorflow:Calling checkpoint listeners before saving checkpoint 400...\n",
            "INFO:tensorflow:Saving checkpoints for 400 into ./checkpoints/my_checkpoint/model.ckpt.\n",
            "INFO:tensorflow:Calling checkpoint listeners after saving checkpoint 400...\n",
            "INFO:tensorflow:Loss for final step: 0.10601797.\n",
            "INFO:tensorflow:Calling model_fn.\n",
            "INFO:tensorflow:Done calling model_fn.\n",
            "INFO:tensorflow:Starting evaluation at 2022-04-01T16:51:27\n",
            "INFO:tensorflow:Graph was finalized.\n",
            "INFO:tensorflow:Restoring parameters from ./checkpoints/my_checkpoint/model.ckpt-400\n",
            "INFO:tensorflow:Running local_init_op.\n",
            "INFO:tensorflow:Done running local_init_op.\n",
            "INFO:tensorflow:Inference Time : 6.77487s\n",
            "INFO:tensorflow:Finished evaluation at 2022-04-01-16:51:33\n",
            "INFO:tensorflow:Saving dict for global step 400: accuracy = 0.999702458437163, accuracy_baseline = 0.5302190649756388, auc = 0.9999967345585269, auc_precision_recall = 0.9999962671578912, average_loss = 0.10640225458885434, global_step = 400, label/mean = 0.4697809350243612, loss = 0.106402256, precision = 0.9993670385315294, prediction/mean = 0.4718399108001831, recall = 1.0\n",
            "INFO:tensorflow:Saving 'checkpoint_path' summary for global step 400: ./checkpoints/my_checkpoint/model.ckpt-400\n",
            "accuracy                  0.999702\n",
            "accuracy_baseline         0.530219\n",
            "auc                       0.999997\n",
            "auc_precision_recall      0.999996\n",
            "average_loss              0.106402\n",
            "label/mean                0.469781\n",
            "loss                      0.106402\n",
            "precision                 0.999367\n",
            "prediction/mean           0.471840\n",
            "recall                    1.000000\n",
            "global_step             400.000000\n",
            "dtype: float64\n"
          ]
        }
      ],
      "source": [
        "linear_est = tf.estimator.LinearClassifier(feature_columns, model_dir='./checkpoints/my_checkpoint')\n",
        "\n",
        "tf.keras.backend.set_floatx('float64')\n",
        "linear_est.train(train_input_fn, max_steps = 400)\n",
        "\n",
        "result = linear_est.evaluate(eval_input_fn)\n",
        "print(pd.Series(result))"
      ]
    },
    {
      "cell_type": "code",
      "execution_count": null,
      "metadata": {
        "colab": {
          "base_uri": "https://localhost:8080/",
          "height": 440
        },
        "id": "RNzX3aKZqPTJ",
        "outputId": "412400c6-7555-4b70-d0a2-a749da3681e9"
      },
      "outputs": [
        {
          "name": "stdout",
          "output_type": "stream",
          "text": [
            "INFO:tensorflow:Calling model_fn.\n"
          ]
        },
        {
          "name": "stderr",
          "output_type": "stream",
          "text": [
            "/usr/local/lib/python3.7/dist-packages/tensorflow_estimator/python/estimator/canned/linear.py:1478: UserWarning: `layer.add_variable` is deprecated and will be removed in a future version. Please use `layer.add_weight` method instead.\n",
            "  getter=tf.compat.v1.get_variable)\n"
          ]
        },
        {
          "name": "stdout",
          "output_type": "stream",
          "text": [
            "INFO:tensorflow:Done calling model_fn.\n",
            "INFO:tensorflow:Graph was finalized.\n",
            "INFO:tensorflow:Restoring parameters from ./checkpoints/my_checkpoint/model.ckpt-400\n",
            "INFO:tensorflow:Running local_init_op.\n",
            "INFO:tensorflow:Done running local_init_op.\n"
          ]
        },
        {
          "data": {
            "image/png": "[encoded data removed]",
            "text/plain": [
              "<Figure size 432x288 with 1 Axes>"
            ]
          },
          "metadata": {
            "needs_background": "light"
          },
          "output_type": "display_data"
        }
      ],
      "source": [
        "#analyze the model\n",
        "pred_dicts = list(linear_est.predict(eval_input_fn))\n",
        "probs = pd.Series([pred['probabilities'][1] for pred in pred_dicts])\n",
        "\n",
        "probs.plot(kind='hist', bins=20, title='predicted probabilities')\n",
        "plt.show()"
      ]
    },
    {
      "cell_type": "code",
      "execution_count": null,
      "metadata": {
        "colab": {
          "base_uri": "https://localhost:8080/"
        },
        "id": "2DjPnKpPptEA",
        "outputId": "98717754-c122-4e9a-a7f9-1f827460e0b7"
      },
      "outputs": [
        {
          "name": "stdout",
          "output_type": "stream",
          "text": [
            "WARNING:tensorflow:From <ipython-input-22-3badc74adc7d>:3: BoostedTreesClassifier.__init__ (from tensorflow_estimator.python.estimator.canned.boosted_trees) is deprecated and will be removed in a future version.\n",
            "Instructions for updating:\n",
            "Boosted Trees kernels in TF are deprecated. Please use TensorFlow Decision Forests instead (https://github.com/tensorflow/decision-forests)\n",
            "INFO:tensorflow:Using default config.\n",
            "INFO:tensorflow:Using config: {'_model_dir': './checkpoints2/my_checkpoint', '_tf_random_seed': None, '_save_summary_steps': 100, '_save_checkpoints_steps': None, '_save_checkpoints_secs': 600, '_session_config': allow_soft_placement: true\n",
            "graph_options {\n",
            "  rewrite_options {\n",
            "    meta_optimizer_iterations: ONE\n",
            "  }\n",
            "}\n",
            ", '_keep_checkpoint_max': 5, '_keep_checkpoint_every_n_hours': 10000, '_log_step_count_steps': 100, '_train_distribute': None, '_device_fn': None, '_protocol': None, '_eval_distribute': None, '_experimental_distribute': None, '_experimental_max_worker_delay_secs': None, '_session_creation_timeout_secs': 7200, '_checkpoint_save_graph_def': True, '_service': None, '_cluster_spec': ClusterSpec({}), '_task_type': 'worker', '_task_id': 0, '_global_id_in_cluster': 0, '_master': '', '_evaluation_master': '', '_is_chief': True, '_num_ps_replicas': 0, '_num_worker_replicas': 1}\n",
            "WARNING:tensorflow:From /usr/local/lib/python3.7/dist-packages/tensorflow_estimator/python/estimator/canned/boosted_trees.py:398: VocabularyListCategoricalColumn._num_buckets (from tensorflow.python.feature_column.feature_column_v2) is deprecated and will be removed in a future version.\n",
            "Instructions for updating:\n",
            "The old _FeatureColumn APIs are being deprecated. Please use the new FeatureColumn APIs instead.\n",
            "INFO:tensorflow:Calling model_fn.\n",
            "INFO:tensorflow:Done calling model_fn.\n",
            "INFO:tensorflow:Create CheckpointSaverHook.\n",
            "WARNING:tensorflow:Issue encountered when serializing resources.\n",
            "Type is unsupported, or the types of the items don't match field type in CollectionDef. Note this is a warning and probably safe to ignore.\n",
            "'_Resource' object has no attribute 'name'\n",
            "INFO:tensorflow:Graph was finalized.\n",
            "INFO:tensorflow:Running local_init_op.\n",
            "INFO:tensorflow:Done running local_init_op.\n",
            "WARNING:tensorflow:Issue encountered when serializing resources.\n",
            "Type is unsupported, or the types of the items don't match field type in CollectionDef. Note this is a warning and probably safe to ignore.\n",
            "'_Resource' object has no attribute 'name'\n",
            "INFO:tensorflow:Calling checkpoint listeners before saving checkpoint 0...\n",
            "INFO:tensorflow:Saving checkpoints for 0 into ./checkpoints2/my_checkpoint/model.ckpt.\n",
            "WARNING:tensorflow:Issue encountered when serializing resources.\n",
            "Type is unsupported, or the types of the items don't match field type in CollectionDef. Note this is a warning and probably safe to ignore.\n",
            "'_Resource' object has no attribute 'name'\n",
            "INFO:tensorflow:Calling checkpoint listeners after saving checkpoint 0...\n",
            "INFO:tensorflow:loss = 0.6931472, step = 0\n",
            "WARNING:tensorflow:It seems that global step (tf.train.get_global_step) has not been increased. Current value (could be stable): 0 vs previous value: 0. You could increase the global step by passing tf.train.get_global_step() to Optimizer.apply_gradients or Optimizer.minimize.\n",
            "INFO:tensorflow:Calling checkpoint listeners before saving checkpoint 92...\n",
            "INFO:tensorflow:Saving checkpoints for 92 into ./checkpoints2/my_checkpoint/model.ckpt.\n",
            "WARNING:tensorflow:Issue encountered when serializing resources.\n",
            "Type is unsupported, or the types of the items don't match field type in CollectionDef. Note this is a warning and probably safe to ignore.\n",
            "'_Resource' object has no attribute 'name'\n",
            "INFO:tensorflow:Calling checkpoint listeners after saving checkpoint 92...\n",
            "INFO:tensorflow:global_step/sec: 0.156037\n",
            "INFO:tensorflow:loss = 2.4205401e-05, step = 99 (640.881 sec)\n",
            "INFO:tensorflow:Calling checkpoint listeners before saving checkpoint 183...\n",
            "INFO:tensorflow:Saving checkpoints for 183 into ./checkpoints2/my_checkpoint/model.ckpt.\n",
            "WARNING:tensorflow:Issue encountered when serializing resources.\n",
            "Type is unsupported, or the types of the items don't match field type in CollectionDef. Note this is a warning and probably safe to ignore.\n",
            "'_Resource' object has no attribute 'name'\n",
            "INFO:tensorflow:Calling checkpoint listeners after saving checkpoint 183...\n",
            "INFO:tensorflow:global_step/sec: 0.150166\n",
            "INFO:tensorflow:loss = 2.9059128e-08, step = 199 (665.930 sec)\n",
            "INFO:tensorflow:Calling checkpoint listeners before saving checkpoint 269...\n",
            "INFO:tensorflow:Saving checkpoints for 269 into ./checkpoints2/my_checkpoint/model.ckpt.\n",
            "WARNING:tensorflow:Issue encountered when serializing resources.\n",
            "Type is unsupported, or the types of the items don't match field type in CollectionDef. Note this is a warning and probably safe to ignore.\n",
            "'_Resource' object has no attribute 'name'\n",
            "INFO:tensorflow:Calling checkpoint listeners after saving checkpoint 269...\n",
            "INFO:tensorflow:global_step/sec: 0.141396\n",
            "INFO:tensorflow:loss = 2.5771497e-08, step = 299 (707.235 sec)\n",
            "INFO:tensorflow:Calling checkpoint listeners before saving checkpoint 353...\n",
            "INFO:tensorflow:Saving checkpoints for 353 into ./checkpoints2/my_checkpoint/model.ckpt.\n",
            "WARNING:tensorflow:Issue encountered when serializing resources.\n",
            "Type is unsupported, or the types of the items don't match field type in CollectionDef. Note this is a warning and probably safe to ignore.\n",
            "'_Resource' object has no attribute 'name'\n",
            "INFO:tensorflow:Calling checkpoint listeners after saving checkpoint 353...\n",
            "INFO:tensorflow:global_step/sec: 0.137766\n",
            "INFO:tensorflow:loss = 2.695535e-08, step = 399 (725.866 sec)\n",
            "INFO:tensorflow:Calling checkpoint listeners before saving checkpoint 420...\n",
            "INFO:tensorflow:Saving checkpoints for 420 into ./checkpoints2/my_checkpoint/model.ckpt.\n",
            "WARNING:tensorflow:From /usr/local/lib/python3.7/dist-packages/tensorflow/python/training/saver.py:1054: remove_checkpoint (from tensorflow.python.training.checkpoint_management) is deprecated and will be removed in a future version.\n",
            "Instructions for updating:\n",
            "Use standard file APIs to delete files with this prefix.\n",
            "WARNING:tensorflow:Issue encountered when serializing resources.\n",
            "Type is unsupported, or the types of the items don't match field type in CollectionDef. Note this is a warning and probably safe to ignore.\n",
            "'_Resource' object has no attribute 'name'\n",
            "INFO:tensorflow:Calling checkpoint listeners after saving checkpoint 420...\n",
            "INFO:tensorflow:Loss for final step: 2.6846864e-08.\n",
            "INFO:tensorflow:Calling model_fn.\n",
            "WARNING:tensorflow:From /usr/local/lib/python3.7/dist-packages/tensorflow_estimator/python/estimator/canned/head.py:640: auc (from tensorflow.python.ops.metrics_impl) is deprecated and will be removed in a future version.\n",
            "Instructions for updating:\n",
            "The value of AUC returned by this may race with the update so this is deprecated. Please use tf.keras.metrics.AUC instead.\n",
            "WARNING:tensorflow:Trapezoidal rule is known to produce incorrect PR-AUCs; please switch to \"careful_interpolation\" instead.\n",
            "WARNING:tensorflow:Trapezoidal rule is known to produce incorrect PR-AUCs; please switch to \"careful_interpolation\" instead.\n",
            "INFO:tensorflow:Done calling model_fn.\n",
            "INFO:tensorflow:Starting evaluation at 2022-04-01T17:47:04\n",
            "INFO:tensorflow:Graph was finalized.\n",
            "INFO:tensorflow:Restoring parameters from ./checkpoints2/my_checkpoint/model.ckpt-420\n",
            "INFO:tensorflow:Running local_init_op.\n",
            "INFO:tensorflow:Done running local_init_op.\n",
            "INFO:tensorflow:Inference Time : 7.58595s\n",
            "INFO:tensorflow:Finished evaluation at 2022-04-01-17:47:12\n",
            "INFO:tensorflow:Saving dict for global step 420: accuracy = 1.0, accuracy_baseline = 0.5302191, auc = 1.0, auc_precision_recall = 1.0, average_loss = 2.550425e-08, global_step = 420, label/mean = 0.46978092, loss = 2.550425e-08, precision = 1.0, prediction/mean = 0.46978092, recall = 1.0\n",
            "WARNING:tensorflow:Issue encountered when serializing resources.\n",
            "Type is unsupported, or the types of the items don't match field type in CollectionDef. Note this is a warning and probably safe to ignore.\n",
            "'_Resource' object has no attribute 'name'\n",
            "INFO:tensorflow:Saving 'checkpoint_path' summary for global step 420: ./checkpoints2/my_checkpoint/model.ckpt-420\n",
            "accuracy                1.000000e+00\n",
            "accuracy_baseline       5.302191e-01\n",
            "auc                     1.000000e+00\n",
            "auc_precision_recall    1.000000e+00\n",
            "average_loss            2.550425e-08\n",
            "label/mean              4.697809e-01\n",
            "loss                    2.550425e-08\n",
            "precision               1.000000e+00\n",
            "prediction/mean         4.697809e-01\n",
            "recall                  1.000000e+00\n",
            "global_step             4.200000e+02\n",
            "dtype: float64\n"
          ]
        }
      ],
      "source": [
        "#use a different model \n",
        "est = tf.estimator.BoostedTreesClassifier(feature_columns, n_batches_per_layer=1, n_trees=500, \n",
        "                                          model_dir='./checkpoints2/my_checkpoint')\n",
        "\n",
        "est.train(train_input_fn, max_steps=420)\n",
        "\n",
        "result = est.evaluate(eval_input_fn)\n",
        "print(pd.Series(result))"
      ]
    },
    {
      "cell_type": "code",
      "execution_count": null,
      "metadata": {
        "colab": {
          "base_uri": "https://localhost:8080/",
          "height": 295
        },
        "id": "Cd-c8AnZU64-",
        "outputId": "fa5912fa-36f1-46ea-9fdf-90636b79df53"
      },
      "outputs": [
        {
          "data": {
            "image/png": "[encoded data removed]",
            "text/plain": [
              "<Figure size 432x288 with 1 Axes>"
            ]
          },
          "metadata": {
            "needs_background": "light"
          },
          "output_type": "display_data"
        }
      ],
      "source": [
        "from sklearn.metrics import roc_curve\n",
        "\n",
        "fpr, tpr, _ = roc_curve(val_target, probs)\n",
        "plt.plot(fpr, tpr)\n",
        "plt.title('ROC Curve')\n",
        "plt.xlabel('False Positive Rate')\n",
        "plt.ylabel('True Positive Rate')\n",
        "plt.xlim(0,)\n",
        "plt.ylim(0,)\n",
        "plt.show()"
      ]
    },
    {
      "cell_type": "code",
      "execution_count": null,
      "metadata": {
        "colab": {
          "base_uri": "https://localhost:8080/"
        },
        "id": "cxSDGEk6WCr-",
        "outputId": "5208dadd-629d-4647-a7e2-9e44ebc01925"
      },
      "outputs": [
        {
          "name": "stdout",
          "output_type": "stream",
          "text": [
            "INFO:tensorflow:Using default config.\n",
            "INFO:tensorflow:Using config: {'_model_dir': './checkpoints3/my_checkpoint', '_tf_random_seed': None, '_save_summary_steps': 100, '_save_checkpoints_steps': None, '_save_checkpoints_secs': 600, '_session_config': allow_soft_placement: true\n",
            "graph_options {\n",
            "  rewrite_options {\n",
            "    meta_optimizer_iterations: ONE\n",
            "  }\n",
            "}\n",
            ", '_keep_checkpoint_max': 5, '_keep_checkpoint_every_n_hours': 10000, '_log_step_count_steps': 100, '_train_distribute': None, '_device_fn': None, '_protocol': None, '_eval_distribute': None, '_experimental_distribute': None, '_experimental_max_worker_delay_secs': None, '_session_creation_timeout_secs': 7200, '_checkpoint_save_graph_def': True, '_service': None, '_cluster_spec': ClusterSpec({}), '_task_type': 'worker', '_task_id': 0, '_global_id_in_cluster': 0, '_master': '', '_evaluation_master': '', '_is_chief': True, '_num_ps_replicas': 0, '_num_worker_replicas': 1}\n",
            "INFO:tensorflow:Calling model_fn.\n",
            "INFO:tensorflow:Done calling model_fn.\n",
            "INFO:tensorflow:Create CheckpointSaverHook.\n",
            "WARNING:tensorflow:Issue encountered when serializing resources.\n",
            "Type is unsupported, or the types of the items don't match field type in CollectionDef. Note this is a warning and probably safe to ignore.\n",
            "'_Resource' object has no attribute 'name'\n",
            "INFO:tensorflow:Graph was finalized.\n",
            "INFO:tensorflow:Running local_init_op.\n",
            "INFO:tensorflow:Done running local_init_op.\n",
            "WARNING:tensorflow:Issue encountered when serializing resources.\n",
            "Type is unsupported, or the types of the items don't match field type in CollectionDef. Note this is a warning and probably safe to ignore.\n",
            "'_Resource' object has no attribute 'name'\n",
            "INFO:tensorflow:Calling checkpoint listeners before saving checkpoint 0...\n",
            "INFO:tensorflow:Saving checkpoints for 0 into ./checkpoints3/my_checkpoint/model.ckpt.\n",
            "WARNING:tensorflow:Issue encountered when serializing resources.\n",
            "Type is unsupported, or the types of the items don't match field type in CollectionDef. Note this is a warning and probably safe to ignore.\n",
            "'_Resource' object has no attribute 'name'\n",
            "INFO:tensorflow:Calling checkpoint listeners after saving checkpoint 0...\n",
            "INFO:tensorflow:loss = 0.6931472, step = 0\n",
            "WARNING:tensorflow:It seems that global step (tf.train.get_global_step) has not been increased. Current value (could be stable): 0 vs previous value: 0. You could increase the global step by passing tf.train.get_global_step() to Optimizer.apply_gradients or Optimizer.minimize.\n",
            "INFO:tensorflow:Calling checkpoint listeners before saving checkpoint 92...\n",
            "INFO:tensorflow:Saving checkpoints for 92 into ./checkpoints3/my_checkpoint/model.ckpt.\n",
            "WARNING:tensorflow:Issue encountered when serializing resources.\n",
            "Type is unsupported, or the types of the items don't match field type in CollectionDef. Note this is a warning and probably safe to ignore.\n",
            "'_Resource' object has no attribute 'name'\n",
            "INFO:tensorflow:Calling checkpoint listeners after saving checkpoint 92...\n",
            "INFO:tensorflow:global_step/sec: 0.157725\n",
            "INFO:tensorflow:loss = 2.948695e-05, step = 99 (634.021 sec)\n",
            "INFO:tensorflow:Calling checkpoint listeners before saving checkpoint 185...\n",
            "INFO:tensorflow:Saving checkpoints for 185 into ./checkpoints3/my_checkpoint/model.ckpt.\n",
            "WARNING:tensorflow:Issue encountered when serializing resources.\n",
            "Type is unsupported, or the types of the items don't match field type in CollectionDef. Note this is a warning and probably safe to ignore.\n",
            "'_Resource' object has no attribute 'name'\n",
            "INFO:tensorflow:Calling checkpoint listeners after saving checkpoint 185...\n",
            "INFO:tensorflow:global_step/sec: 0.153374\n",
            "INFO:tensorflow:loss = 2.76719e-08, step = 199 (652.000 sec)\n",
            "INFO:tensorflow:Calling checkpoint listeners before saving checkpoint 275...\n",
            "INFO:tensorflow:Saving checkpoints for 275 into ./checkpoints3/my_checkpoint/model.ckpt.\n",
            "WARNING:tensorflow:Issue encountered when serializing resources.\n",
            "Type is unsupported, or the types of the items don't match field type in CollectionDef. Note this is a warning and probably safe to ignore.\n",
            "'_Resource' object has no attribute 'name'\n",
            "INFO:tensorflow:Calling checkpoint listeners after saving checkpoint 275...\n",
            "INFO:tensorflow:global_step/sec: 0.147689\n",
            "INFO:tensorflow:loss = 2.7000802e-08, step = 299 (677.101 sec)\n",
            "INFO:tensorflow:Calling checkpoint listeners before saving checkpoint 360...\n",
            "INFO:tensorflow:Saving checkpoints for 360 into ./checkpoints3/my_checkpoint/model.ckpt.\n",
            "WARNING:tensorflow:Issue encountered when serializing resources.\n",
            "Type is unsupported, or the types of the items don't match field type in CollectionDef. Note this is a warning and probably safe to ignore.\n",
            "'_Resource' object has no attribute 'name'\n",
            "INFO:tensorflow:Calling checkpoint listeners after saving checkpoint 360...\n",
            "INFO:tensorflow:global_step/sec: 0.139116\n",
            "INFO:tensorflow:loss = 2.9840486e-08, step = 399 (718.823 sec)\n",
            "INFO:tensorflow:Calling checkpoint listeners before saving checkpoint 443...\n",
            "INFO:tensorflow:Saving checkpoints for 443 into ./checkpoints3/my_checkpoint/model.ckpt.\n",
            "WARNING:tensorflow:Issue encountered when serializing resources.\n",
            "Type is unsupported, or the types of the items don't match field type in CollectionDef. Note this is a warning and probably safe to ignore.\n",
            "'_Resource' object has no attribute 'name'\n",
            "INFO:tensorflow:Calling checkpoint listeners after saving checkpoint 443...\n",
            "INFO:tensorflow:global_step/sec: 0.134982\n",
            "INFO:tensorflow:loss = 2.8409712e-08, step = 499 (740.841 sec)\n",
            "INFO:tensorflow:Calling checkpoint listeners before saving checkpoint 523...\n",
            "INFO:tensorflow:Saving checkpoints for 523 into ./checkpoints3/my_checkpoint/model.ckpt.\n",
            "WARNING:tensorflow:Issue encountered when serializing resources.\n",
            "Type is unsupported, or the types of the items don't match field type in CollectionDef. Note this is a warning and probably safe to ignore.\n",
            "'_Resource' object has no attribute 'name'\n",
            "INFO:tensorflow:Calling checkpoint listeners after saving checkpoint 523...\n",
            "INFO:tensorflow:global_step/sec: 0.134516\n",
            "INFO:tensorflow:loss = 2.9717e-08, step = 599 (743.405 sec)\n",
            "INFO:tensorflow:Calling checkpoint listeners before saving checkpoint 602...\n",
            "INFO:tensorflow:Saving checkpoints for 602 into ./checkpoints3/my_checkpoint/model.ckpt.\n",
            "WARNING:tensorflow:Issue encountered when serializing resources.\n",
            "Type is unsupported, or the types of the items don't match field type in CollectionDef. Note this is a warning and probably safe to ignore.\n",
            "'_Resource' object has no attribute 'name'\n",
            "INFO:tensorflow:Calling checkpoint listeners after saving checkpoint 602...\n",
            "INFO:tensorflow:Loss for final step: 2.840971e-08.\n"
          ]
        },
        {
          "data": {
            "text/plain": [
              "<tensorflow_estimator.python.estimator.canned.boosted_trees.BoostedTreesClassifier at 0x7f76bfcbc210>"
            ]
          },
          "execution_count": 25,
          "metadata": {},
          "output_type": "execute_result"
        }
      ],
      "source": [
        "#use another model (basically the same as prev model) but with some kind of whitebox/explainability for its prediction\n",
        "\n",
        "params = {\n",
        "    'n_batches_per_layer': 1,\n",
        "    'center_bias': True\n",
        "}\n",
        "\n",
        "est = tf.estimator.BoostedTreesClassifier(feature_columns, model_dir='./checkpoints3/my_checkpoint', **params)\n",
        "est.train(train_input_fn, max_steps = 700)"
      ]
    },
    {
      "cell_type": "code",
      "execution_count": null,
      "metadata": {
        "id": "mjhQVBrkXgMu"
      },
      "outputs": [],
      "source": [
        "#plot contribution of each feature\n",
        "\n",
        "def _get_color(value):\n",
        "    \"\"\"To make positive DFCs plot green, negative DFCs plot red.\"\"\"\n",
        "    green, red = sns.color_palette()[2:4]\n",
        "    if value >= 0: return green\n",
        "    return red\n",
        "\n",
        "def _add_feature_values(feature_values, ax):\n",
        "    \"\"\"Display feature's values on left of plot.\"\"\"\n",
        "    x_coord = ax.get_xlim()[0]\n",
        "    OFFSET = 0.15\n",
        "    for y_coord, (feat_name, feat_val) in enumerate(feature_values.items()):\n",
        "        t = plt.text(x_coord, y_coord - OFFSET, '{}'.format(feat_val), size=12)\n",
        "        t.set_bbox(dict(facecolor='white', alpha=0.5))\n",
        "    from matplotlib.font_manager import FontProperties\n",
        "    font = FontProperties()\n",
        "    font.set_weight('bold')\n",
        "    t = plt.text(x_coord, y_coord + 1 - OFFSET, 'feature\\nvalue',\n",
        "    fontproperties=font, size=12)\n",
        "\n",
        "def plot_example(example):\n",
        "    TOP_N = 15 # View top 15 features.\n",
        "    sorted_ix = example.abs().sort_values()[-TOP_N:].index  # Sort by magnitude.\n",
        "    example = example[sorted_ix]\n",
        "    colors = example.map(_get_color).tolist()\n",
        "    ax = example.to_frame().plot(kind='barh',\n",
        "                          color=colors,\n",
        "                          legend=None,\n",
        "                          alpha=0.75,\n",
        "                          figsize=(10,6))\n",
        "    ax.grid(False, axis='y')\n",
        "    ax.set_yticklabels(ax.get_yticklabels(), size=14)\n",
        "\n",
        "    # Add feature values.\n",
        "    _add_feature_values(df_data.iloc[ID][sorted_ix], ax)\n",
        "    return ax"
      ]
    },
    {
      "cell_type": "code",
      "execution_count": null,
      "metadata": {
        "colab": {
          "base_uri": "https://localhost:8080/"
        },
        "id": "jmsvAdseYLjt",
        "outputId": "960bcd79-79bb-4213-ace0-6e668b872f94"
      },
      "outputs": [
        {
          "name": "stdout",
          "output_type": "stream",
          "text": [
            "INFO:tensorflow:Using config: {'_model_dir': './checkpoints3/my_checkpoint', '_tf_random_seed': None, '_save_summary_steps': 100, '_save_checkpoints_steps': None, '_save_checkpoints_secs': 600, '_session_config': allow_soft_placement: true\n",
            "graph_options {\n",
            "  rewrite_options {\n",
            "    meta_optimizer_iterations: ONE\n",
            "  }\n",
            "}\n",
            ", '_keep_checkpoint_max': 5, '_keep_checkpoint_every_n_hours': 10000, '_log_step_count_steps': 100, '_train_distribute': None, '_device_fn': None, '_protocol': None, '_eval_distribute': None, '_experimental_distribute': None, '_experimental_max_worker_delay_secs': None, '_session_creation_timeout_secs': 7200, '_checkpoint_save_graph_def': True, '_service': None, '_cluster_spec': ClusterSpec({}), '_task_type': 'worker', '_task_id': 0, '_global_id_in_cluster': 0, '_master': '', '_evaluation_master': '', '_is_chief': True, '_num_ps_replicas': 0, '_num_worker_replicas': 1}\n",
            "INFO:tensorflow:Calling model_fn.\n",
            "INFO:tensorflow:Done calling model_fn.\n",
            "INFO:tensorflow:Graph was finalized.\n",
            "INFO:tensorflow:Restoring parameters from ./checkpoints3/my_checkpoint/model.ckpt-602\n",
            "INFO:tensorflow:Running local_init_op.\n",
            "INFO:tensorflow:Done running local_init_op.\n"
          ]
        }
      ],
      "source": [
        "pred_dicts = list(est.experimental_predict_with_explanations(eval_input_fn))\n",
        "df_dfc = pd.DataFrame([pred['dfc'] for pred in pred_dicts])\n",
        "probs = pd.Series([pred['probabilities'][1] for pred in pred_dicts])"
      ]
    },
    {
      "cell_type": "code",
      "execution_count": null,
      "metadata": {
        "colab": {
          "base_uri": "https://localhost:8080/",
          "height": 390
        },
        "id": "5N04_9lgZ2Np",
        "outputId": "bb41bb34-2e0c-46dd-91b1-60e63914ff91"
      },
      "outputs": [
        {
          "data": {
            "image/png": "[encoded data removed]",
            "text/plain": [
              "<Figure size 720x432 with 1 Axes>"
            ]
          },
          "metadata": {
            "needs_background": "light"
          },
          "output_type": "display_data"
        }
      ],
      "source": [
        "ID = 101 #swap as you wish\n",
        "example = df_dfc.iloc[ID] #choose X example from evaluation set\n",
        "TOP_N = 15 #view top 15 features\n",
        "ax = plot_example(example)\n",
        "ax.set_title('Feature contributions for example {}\\n pred: {:1.2f}; label: {}'.format(ID, probs[ID], labels[ID]))\n",
        "ax.set_xlabel('Contribution to predicted probability', size=15)\n",
        "plt.show()"
      ]
    }
  ],
  "metadata": {
    "accelerator": "GPU",
    "colab": {
      "collapsed_sections": [],
      "name": "Whatever Neural Network Code.ipynb",
      "provenance": []
    },
    "kernelspec": {
      "display_name": "Python 3",
      "name": "python3"
    },
    "language_info": {
      "name": "python"
    }
  },
  "nbformat": 4,
  "nbformat_minor": 0
}
